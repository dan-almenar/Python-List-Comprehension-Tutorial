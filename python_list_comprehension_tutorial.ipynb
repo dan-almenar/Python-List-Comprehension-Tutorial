{
 "cells": [
  {
   "cell_type": "markdown",
   "metadata": {},
   "source": [
    "# Python Tutorial\n",
    "# List Comprehension (in depth)\n",
    "\n",
    "One of the features I absolutely adore of Python is list comprehension. I have to clarify though, that is is not a feature exclusive of Python nor was it the first programming language to implement it. On the other hand, is either the only one or -best case scenario- one of the very few most used programming languages to have this specific feature.\n",
    "\n",
    "### But, what is List Comprehension, anyway?\n",
    "Let's say we have a list (A) (in Python an array is called a list) and we have to loop over it in order to get a new list (B) that holds only the items from list A that fits some criteria, or the result of manipulating the list A items in a given way.\n",
    "\n",
    "#### Let's create List A:\n",
    "(for the sake of simplycity, I'll name it list_a even tho that would be a terrible variable name in a real case scenario):"
   ]
  },
  {
   "cell_type": "code",
   "execution_count": 1,
   "metadata": {},
   "outputs": [],
   "source": [
    "list_a = [1, 2, 3, 4, 5, 6, 7, 8, 9]"
   ]
  },
  {
   "cell_type": "markdown",
   "metadata": {},
   "source": [
    "Now, let's say we need to create a second list (list_b) which holds only the even numbers from list_a.\n",
    "\n",
    "The first approach one might have if one is not familiarize with Python, (be that because is not his regular programming language or because he/she is just starting his programming journey) would be as follows:\n",
    "1. Create a new empty list.\n",
    "2. Loop over list_a to check whether each item is even or not.\n",
    "3. If the item is an even number, add it to the recently created list_b.\n",
    "\n",
    "In Python, that would be something like this:"
   ]
  },
  {
   "cell_type": "code",
   "execution_count": 5,
   "metadata": {},
   "outputs": [
    {
     "name": "stdout",
     "output_type": "stream",
     "text": [
      "[2, 4, 6, 8]\n"
     ]
    }
   ],
   "source": [
    "list_b = []\n",
    "for item in list_a:\n",
    "    if item % 2 == 0:\n",
    "        list_b.append(item)\n",
    "\n",
    "'''\n",
    "the % operator returns the remainder of the division, thus any number\n",
    "that divided by two has zero as a remainder is by definition an even\n",
    "number\n",
    "'''\n",
    "\n",
    "#Let's print list_b to see what we got:\n",
    "print(list_b)"
   ]
  },
  {
   "cell_type": "markdown",
   "metadata": {},
   "source": [
    "So, what we just did is not wrong. The task at hand was to create a list that held the even numbers from list_a and that is exactly what we did.\n",
    "\n",
    "So far, so good.\n",
    "\n",
    "Yet, the question remains the same:\n",
    "### What is List Comprehension?\n",
    "In the most simplistic way, List Comprehension is the ability to loop over a list to generate another list in a single line of code.\n",
    "\n",
    "##### Those last six words are where the magic happens.\n",
    "Let's see how we would solve the same problem with using this feature instead:"
   ]
  },
  {
   "cell_type": "code",
   "execution_count": 7,
   "metadata": {},
   "outputs": [
    {
     "name": "stdout",
     "output_type": "stream",
     "text": [
      "[2, 4, 6, 8]\n"
     ]
    }
   ],
   "source": [
    "list_b = [item for item in list_a if item % 2 == 0]\n",
    "\n",
    "print(list_b)"
   ]
  },
  {
   "cell_type": "markdown",
   "metadata": {},
   "source": [
    "Let's review what we just did:\n",
    "1. We created the list.\n",
    "2. We passed the parameters of the loop over list_a.\n",
    "\n",
    "#### All in one line of code that not only gets the job done but reads almost as plain English.\n",
    "\n",
    "So, anything we could accomplish with a for loop over a list, we can make it with list comprehension, since list comprehension is essencially a for loop over a list.\n",
    "\n",
    "For instance, let's make a new list (list_c) with the squares of the numbers from list_a:"
   ]
  },
  {
   "cell_type": "code",
   "execution_count": 10,
   "metadata": {},
   "outputs": [
    {
     "name": "stdout",
     "output_type": "stream",
     "text": [
      "[1, 4, 9, 16, 25, 36, 49, 64, 81]\n"
     ]
    }
   ],
   "source": [
    "list_c = [item**2 for item in list_a]\n",
    "\n",
    "print(list_c)"
   ]
  },
  {
   "cell_type": "markdown",
   "metadata": {},
   "source": [
    "The variable name and the word \"item\" can of course be replaced by something more meaningful:"
   ]
  },
  {
   "cell_type": "code",
   "execution_count": 11,
   "metadata": {},
   "outputs": [
    {
     "name": "stdout",
     "output_type": "stream",
     "text": [
      "[1, 4, 9, 16, 25, 36, 49, 64, 81]\n"
     ]
    }
   ],
   "source": [
    "squares = [number**2 for number in list_a]\n",
    "\n",
    "print(squares)"
   ]
  },
  {
   "cell_type": "markdown",
   "metadata": {},
   "source": [
    "(Side note, I had been writing the print build in function in order to keep this as begginer friendly as possible. On a Jupyter Notebook, however, you can print a variable just by typing it's name)"
   ]
  },
  {
   "cell_type": "code",
   "execution_count": 13,
   "metadata": {},
   "outputs": [
    {
     "data": {
      "text/plain": [
       "[1, 4, 9, 16, 25, 36, 49, 64, 81]"
      ]
     },
     "execution_count": 13,
     "metadata": {},
     "output_type": "execute_result"
    }
   ],
   "source": [
    "squares"
   ]
  },
  {
   "cell_type": "markdown",
   "metadata": {},
   "source": [
    "#### Let's take this one step further:\n",
    "Let's now make a function that does what we have been doing so far: returning even numbers from a given list of numbers."
   ]
  },
  {
   "cell_type": "code",
   "execution_count": 14,
   "metadata": {},
   "outputs": [],
   "source": [
    "def get_even_numbers(list_of_numbers):\n",
    "    even_numbers = [number for number in list_of_numbers if number % 2 == 0]\n",
    "    return even_numbers"
   ]
  },
  {
   "cell_type": "markdown",
   "metadata": {},
   "source": [
    "Now, let's implement such function:"
   ]
  },
  {
   "cell_type": "code",
   "execution_count": 17,
   "metadata": {},
   "outputs": [
    {
     "data": {
      "text/plain": [
       "[4.0, 16, 8]"
      ]
     },
     "execution_count": 17,
     "metadata": {},
     "output_type": "execute_result"
    }
   ],
   "source": [
    "numbers = [1, 14.3, 23.6, 4., 7, 16, 8]\n",
    "get_even_numbers(numbers)"
   ]
  },
  {
   "cell_type": "markdown",
   "metadata": {},
   "source": [
    "#### Perfect!\n",
    "Seems like our function works as intended. It even took into consideration that some of the numbers were actually floats (4.) and returned them as floats aswell.\n",
    "\n",
    "If we'd want to return the results as integers, even if they are floats on the original list, we can just adjust the function:"
   ]
  },
  {
   "cell_type": "code",
   "execution_count": 18,
   "metadata": {},
   "outputs": [],
   "source": [
    "def get_even_numbers(list_of_numbers):\n",
    "    even_numbers = [int(number) for number in list_of_numbers if number % 2 == 0]\n",
    "    return even_numbers"
   ]
  },
  {
   "cell_type": "code",
   "execution_count": 19,
   "metadata": {},
   "outputs": [
    {
     "data": {
      "text/plain": [
       "[4, 16, 8]"
      ]
     },
     "execution_count": 19,
     "metadata": {},
     "output_type": "execute_result"
    }
   ],
   "source": [
    "get_even_numbers(numbers)"
   ]
  },
  {
   "cell_type": "markdown",
   "metadata": {},
   "source": [
    "There you go."
   ]
  },
  {
   "cell_type": "markdown",
   "metadata": {},
   "source": [
    "But...\n",
    "\n",
    "## This is Python!\n",
    "And a key feature in Python is that a list can hold items of different type.\n",
    "\n",
    "#### Would our function work if we change the original list by something else?"
   ]
  },
  {
   "cell_type": "code",
   "execution_count": 20,
   "metadata": {},
   "outputs": [
    {
     "ename": "TypeError",
     "evalue": "not all arguments converted during string formatting",
     "output_type": "error",
     "traceback": [
      "\u001b[0;31m---------------------------------------------------------------------------\u001b[0m",
      "\u001b[0;31mTypeError\u001b[0m                                 Traceback (most recent call last)",
      "\u001b[0;32m<ipython-input-20-9afbbe09dbe3>\u001b[0m in \u001b[0;36m<module>\u001b[0;34m\u001b[0m\n\u001b[1;32m      1\u001b[0m \u001b[0mrandom_list\u001b[0m \u001b[0;34m=\u001b[0m \u001b[0;34m[\u001b[0m\u001b[0;36m1\u001b[0m\u001b[0;34m,\u001b[0m \u001b[0;36m2\u001b[0m\u001b[0;34m,\u001b[0m \u001b[0;36m3\u001b[0m\u001b[0;34m,\u001b[0m \u001b[0;36m6\u001b[0m\u001b[0;34m,\u001b[0m \u001b[0;36m23.5\u001b[0m\u001b[0;34m,\u001b[0m \u001b[0;34m'hello world'\u001b[0m\u001b[0;34m,\u001b[0m \u001b[0;32mTrue\u001b[0m\u001b[0;34m,\u001b[0m \u001b[0;32mFalse\u001b[0m\u001b[0;34m,\u001b[0m \u001b[0;34m'Python is amazing!'\u001b[0m\u001b[0;34m]\u001b[0m\u001b[0;34m\u001b[0m\u001b[0;34m\u001b[0m\u001b[0m\n\u001b[1;32m      2\u001b[0m \u001b[0;34m\u001b[0m\u001b[0m\n\u001b[0;32m----> 3\u001b[0;31m \u001b[0mget_even_numbers\u001b[0m\u001b[0;34m(\u001b[0m\u001b[0mrandom_list\u001b[0m\u001b[0;34m)\u001b[0m\u001b[0;34m\u001b[0m\u001b[0;34m\u001b[0m\u001b[0m\n\u001b[0m",
      "\u001b[0;32m<ipython-input-18-c05139711ca3>\u001b[0m in \u001b[0;36mget_even_numbers\u001b[0;34m(list_of_numbers)\u001b[0m\n\u001b[1;32m      1\u001b[0m \u001b[0;32mdef\u001b[0m \u001b[0mget_even_numbers\u001b[0m\u001b[0;34m(\u001b[0m\u001b[0mlist_of_numbers\u001b[0m\u001b[0;34m)\u001b[0m\u001b[0;34m:\u001b[0m\u001b[0;34m\u001b[0m\u001b[0;34m\u001b[0m\u001b[0m\n\u001b[0;32m----> 2\u001b[0;31m     \u001b[0meven_numbers\u001b[0m \u001b[0;34m=\u001b[0m \u001b[0;34m[\u001b[0m\u001b[0mint\u001b[0m\u001b[0;34m(\u001b[0m\u001b[0mnumber\u001b[0m\u001b[0;34m)\u001b[0m \u001b[0;32mfor\u001b[0m \u001b[0mnumber\u001b[0m \u001b[0;32min\u001b[0m \u001b[0mlist_of_numbers\u001b[0m \u001b[0;32mif\u001b[0m \u001b[0mnumber\u001b[0m \u001b[0;34m%\u001b[0m \u001b[0;36m2\u001b[0m \u001b[0;34m==\u001b[0m \u001b[0;36m0\u001b[0m\u001b[0;34m]\u001b[0m\u001b[0;34m\u001b[0m\u001b[0;34m\u001b[0m\u001b[0m\n\u001b[0m\u001b[1;32m      3\u001b[0m     \u001b[0;32mreturn\u001b[0m \u001b[0meven_numbers\u001b[0m\u001b[0;34m\u001b[0m\u001b[0;34m\u001b[0m\u001b[0m\n",
      "\u001b[0;32m<ipython-input-18-c05139711ca3>\u001b[0m in \u001b[0;36m<listcomp>\u001b[0;34m(.0)\u001b[0m\n\u001b[1;32m      1\u001b[0m \u001b[0;32mdef\u001b[0m \u001b[0mget_even_numbers\u001b[0m\u001b[0;34m(\u001b[0m\u001b[0mlist_of_numbers\u001b[0m\u001b[0;34m)\u001b[0m\u001b[0;34m:\u001b[0m\u001b[0;34m\u001b[0m\u001b[0;34m\u001b[0m\u001b[0m\n\u001b[0;32m----> 2\u001b[0;31m     \u001b[0meven_numbers\u001b[0m \u001b[0;34m=\u001b[0m \u001b[0;34m[\u001b[0m\u001b[0mint\u001b[0m\u001b[0;34m(\u001b[0m\u001b[0mnumber\u001b[0m\u001b[0;34m)\u001b[0m \u001b[0;32mfor\u001b[0m \u001b[0mnumber\u001b[0m \u001b[0;32min\u001b[0m \u001b[0mlist_of_numbers\u001b[0m \u001b[0;32mif\u001b[0m \u001b[0mnumber\u001b[0m \u001b[0;34m%\u001b[0m \u001b[0;36m2\u001b[0m \u001b[0;34m==\u001b[0m \u001b[0;36m0\u001b[0m\u001b[0;34m]\u001b[0m\u001b[0;34m\u001b[0m\u001b[0;34m\u001b[0m\u001b[0m\n\u001b[0m\u001b[1;32m      3\u001b[0m     \u001b[0;32mreturn\u001b[0m \u001b[0meven_numbers\u001b[0m\u001b[0;34m\u001b[0m\u001b[0;34m\u001b[0m\u001b[0m\n",
      "\u001b[0;31mTypeError\u001b[0m: not all arguments converted during string formatting"
     ]
    }
   ],
   "source": [
    "random_list = [1, 2, 3, 6, 23.5, 'hello world', True, False, 'Python is amazing!']\n",
    "\n",
    "get_even_numbers(random_list)"
   ]
  },
  {
   "cell_type": "markdown",
   "metadata": {},
   "source": [
    "It seems like it does not.\n",
    "\n",
    "#### How can we fix the function to work with any given list?\n",
    "\n",
    "Well, let's see the error we got above:\n",
    "TypeError: not all arguments converted during string formatting\n",
    "\n",
    "Seems reazonable: we are trying to perform mathematical operations (division) on things like strings or booleans.\n",
    "\n",
    "So we need to take type into consideration. Okey then, let's redefine our function to do so:"
   ]
  },
  {
   "cell_type": "code",
   "execution_count": 23,
   "metadata": {},
   "outputs": [],
   "source": [
    "def get_even_numbers(any_list):\n",
    "    even_numbers = [int(number) for number in any_list if type(number) == int or type(number) == float and number % 2 == 0]\n",
    "    return even_numbers"
   ]
  },
  {
   "cell_type": "code",
   "execution_count": 24,
   "metadata": {},
   "outputs": [
    {
     "data": {
      "text/plain": [
       "[1, 2, 3, 6]"
      ]
     },
     "execution_count": 24,
     "metadata": {},
     "output_type": "execute_result"
    }
   ],
   "source": [
    "get_even_numbers(random_list)"
   ]
  },
  {
   "cell_type": "markdown",
   "metadata": {},
   "source": [
    "### Pretty amazing, right?\n",
    "When creating a list via list comprehension you can add whatever condition or conditions you could add on a regular for loop, so you can add the AND and OR operators just like you would on a for loop.\n",
    "\n",
    "Remember, list comprehension is in essence a list with a for loop within.\n",
    "\n",
    "For instance, you can create yet another list that holds the boolean items from random_list:"
   ]
  },
  {
   "cell_type": "code",
   "execution_count": 25,
   "metadata": {},
   "outputs": [
    {
     "name": "stdout",
     "output_type": "stream",
     "text": [
      "[True, False]\n"
     ]
    }
   ],
   "source": [
    "booleans = [item for item in random_list if type(item) == bool]\n",
    "\n",
    "print(booleans)"
   ]
  },
  {
   "cell_type": "markdown",
   "metadata": {},
   "source": [
    "Or the strings with more than eleven characters (why not?):"
   ]
  },
  {
   "cell_type": "code",
   "execution_count": 26,
   "metadata": {},
   "outputs": [
    {
     "name": "stdout",
     "output_type": "stream",
     "text": [
      "['Python is amazing!']\n"
     ]
    }
   ],
   "source": [
    "long_string = [item for item in random_list if type(item) == str and len(item) > 11]\n",
    "\n",
    "print(long_string)"
   ]
  },
  {
   "cell_type": "markdown",
   "metadata": {},
   "source": [
    "### I sincerly hope you enjoyed this tutorial.\n",
    "\n",
    "Thanks for reading. Please share if you think this may be helpful for someone else.\n",
    "\n",
    "Bye,\n",
    "### Dan Almenar Williams\n",
    "\n",
    "\n",
    "\n",
    "#### About me:\n",
    "I'm a self taught programmer from Buenos Aires (Argentina).\n",
    "\n",
    "I make programming tutorials in various formats both in English and Spanish. All my tutorials are and will remain free because I'd like to help as much people as possible, regardless their financial status.\n",
    "If you wish to help me keep doing so, you can support me on these platforms:\n",
    "• Patreon: https://www.patreon.com/dandeveloper\n",
    "• Ko-fi: https://ko-fi.com/dandev"
   ]
  }
 ],
 "metadata": {
  "kernelspec": {
   "display_name": "Python 3",
   "language": "python",
   "name": "python3"
  },
  "language_info": {
   "codemirror_mode": {
    "name": "ipython",
    "version": 3
   },
   "file_extension": ".py",
   "mimetype": "text/x-python",
   "name": "python",
   "nbconvert_exporter": "python",
   "pygments_lexer": "ipython3",
   "version": "3.8.3"
  }
 },
 "nbformat": 4,
 "nbformat_minor": 4
}

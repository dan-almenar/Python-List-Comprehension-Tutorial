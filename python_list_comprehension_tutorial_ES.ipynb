{
 "cells": [
  {
   "cell_type": "markdown",
   "metadata": {},
   "source": [
    "# Python Tutorial\n",
    "# List Comprehension (a fondo)\n",
    "\n",
    "Una de las características que adoro de Python es List Comprehension. Aclaro de entrada que no es una característica exclusiva de Python, ni fue el primer lenguaje en implementarla. No obstante, es el único o -en el mejor de los casos- uno de los pocos lenguajes de programación más usados en la actualidad en contar con ella. \n",
    "\n",
    "\n",
    "### Pero ¿qué es List Comprehension?\n",
    "Supongamos que tenemos una lista (A) (en Python se les llama listas a los arrays) y tenemos que hacer un loop sobre dicha lista para obtener una nueva lista (B) que contiene sólo items de la lista A que cumplen ciertos criterios, o que son el resultado de manipular los items de la lista A en cierta forma.\n",
    "\n",
    "#### Creemos una Lista A:\n",
    "(por razones de simplicidad, la llamaré list_a, sin embargo ese sería un nombre terrible para una variable en un caso real):"
   ]
  },
  {
   "cell_type": "code",
   "execution_count": 1,
   "metadata": {},
   "outputs": [],
   "source": [
    "list_a = [1, 2, 3, 4, 5, 6, 7, 8, 9]"
   ]
  },
  {
   "cell_type": "markdown",
   "metadata": {},
   "source": [
    "Bien, supongamos que tenemos que crear una segunda lista (list_b) que contenga únicamente los números pares de list_a.\n",
    "\n",
    "La primera solución que nos viene a la mente si no estamos familiarizados con Python -sea porque no es el lenguaje de programación que manejamos frecuentemente o porque estamos recién adentrándonos al mundo de la programacin- sería algo como esto:\n",
    "1. Crear una nueva lista vacía.\n",
    "2. Hacer un loop sobre list_a para verificar si cada item es un número par o no.\n",
    "3. Si el item es un número par, añadirlo a la recientemente creada list_b.\n",
    "\n",
    "En Python, eso sería algo como esto:"
   ]
  },
  {
   "cell_type": "code",
   "execution_count": 2,
   "metadata": {},
   "outputs": [
    {
     "name": "stdout",
     "output_type": "stream",
     "text": [
      "[2, 4, 6, 8]\n"
     ]
    }
   ],
   "source": [
    "list_b = []\n",
    "for item in list_a:\n",
    "    if item % 2 == 0:\n",
    "        list_b.append(item)\n",
    "\n",
    "'''\n",
    "el operador % devuelve el resto de la división, de modo que\n",
    "todo número que dividido entre dos arroja cero como residuo es\n",
    "por definición un número par\n",
    "'''\n",
    "\n",
    "#Veamos el resultado:\n",
    "print(list_b)"
   ]
  },
  {
   "cell_type": "markdown",
   "metadata": {},
   "source": [
    "Entonces, lo que acabamos de hacer no es incorrecto. La tarea a realizar era crear una lista que contuviese los números pares de list_a y eso fue exactamente lo que hicimos.\n",
    "\n",
    "Hasta ahora, todo bien.\n",
    "\n",
    "Pero la pregunta se mantiene:\n",
    "### ¿Qué es List Comprehension?\n",
    "Dicho en los términos más sencillos posibles, List Comprehension es la habilidad de hacer loop sobre una lista para generar otra lista en una sola línea de código.\n",
    "\n",
    "##### Esas últimas seis palabras es donde reside la magia.\n",
    "Veamos cómo resolveríamos el mismo problema usando esta herramienta:"
   ]
  },
  {
   "cell_type": "code",
   "execution_count": 3,
   "metadata": {},
   "outputs": [
    {
     "name": "stdout",
     "output_type": "stream",
     "text": [
      "[2, 4, 6, 8]\n"
     ]
    }
   ],
   "source": [
    "list_b = [item for item in list_a if item % 2 == 0]\n",
    "\n",
    "print(list_b)"
   ]
  },
  {
   "cell_type": "markdown",
   "metadata": {},
   "source": [
    "Veamos detenidamente lo que acabamos de hacer:\n",
    "1. Creamos la lista.\n",
    "2. Establecimos los parámetros del loop sobre list_a.\n",
    "\n",
    "#### Todo en una línea de código que no sólo hace el trabajo sino que además se lee casi como una oración en Inglés.\n",
    "\n",
    "Entonces, todo lo que podamos lograr con un for loop sobre una lista, podemos hacerlo con List Comprehension, ya que List Comprehension es, en esencia, un for loop sobre una lista preexistente.\n",
    "\n",
    "Por ejemplo, creemos una nueva lista (list_c) con los valores de list_a elevados al cuadrado:"
   ]
  },
  {
   "cell_type": "code",
   "execution_count": 10,
   "metadata": {},
   "outputs": [
    {
     "name": "stdout",
     "output_type": "stream",
     "text": [
      "[1, 4, 9, 16, 25, 36, 49, 64, 81]\n"
     ]
    }
   ],
   "source": [
    "list_c = [item**2 for item in list_a]\n",
    "\n",
    "print(list_c)"
   ]
  },
  {
   "cell_type": "markdown",
   "metadata": {},
   "source": [
    "Por supuesto, el nombre de la variable y la palabra \"item\" pueden ser reemplazados por algo con más sentido:"
   ]
  },
  {
   "cell_type": "code",
   "execution_count": 11,
   "metadata": {},
   "outputs": [
    {
     "name": "stdout",
     "output_type": "stream",
     "text": [
      "[1, 4, 9, 16, 25, 36, 49, 64, 81]\n"
     ]
    }
   ],
   "source": [
    "squares = [number**2 for number in list_a]\n",
    "\n",
    "print(squares)"
   ]
  },
  {
   "cell_type": "markdown",
   "metadata": {},
   "source": [
    "(Nota al margen, he venido escribiendo el comando print con la intención de no sumar una confusión más a aquellos que sean todavía principiantes en Python. En un Jupyter Notebook, que es como se llama esto en donde reposa este tutorial, se puede imprimir el valor de una variable con tan solo escribir su nombre)"
   ]
  },
  {
   "cell_type": "code",
   "execution_count": 13,
   "metadata": {
    "scrolled": true
   },
   "outputs": [
    {
     "data": {
      "text/plain": [
       "[1, 4, 9, 16, 25, 36, 49, 64, 81]"
      ]
     },
     "execution_count": 13,
     "metadata": {},
     "output_type": "execute_result"
    }
   ],
   "source": [
    "squares"
   ]
  },
  {
   "cell_type": "markdown",
   "metadata": {},
   "source": [
    "#### Llevemos esto un paso más allá:\n",
    "Creemos una función que haga lo que hemos venido haciendo hasta ahora: tomar una lista y devolver los números pares de ella."
   ]
  },
  {
   "cell_type": "code",
   "execution_count": 14,
   "metadata": {},
   "outputs": [],
   "source": [
    "def get_even_numbers(list_of_numbers):\n",
    "    even_numbers = [number for number in list_of_numbers if number % 2 == 0]\n",
    "    return even_numbers"
   ]
  },
  {
   "cell_type": "markdown",
   "metadata": {},
   "source": [
    "Ahora implementemos esa función:"
   ]
  },
  {
   "cell_type": "code",
   "execution_count": 17,
   "metadata": {},
   "outputs": [
    {
     "data": {
      "text/plain": [
       "[4.0, 16, 8]"
      ]
     },
     "execution_count": 17,
     "metadata": {},
     "output_type": "execute_result"
    }
   ],
   "source": [
    "numbers = [1, 14.3, 23.6, 4., 7, 16, 8]\n",
    "get_even_numbers(numbers)"
   ]
  },
  {
   "cell_type": "markdown",
   "metadata": {},
   "source": [
    "#### Perfecto!\n",
    "Parece que nuestra función hace la tarea tal como queremos. Incluso tomó en consideración que algunos de los números son floats (23.6, 4.) y nos devolvió los floats que cumplen con el requisito establecido, es decir ser número par.\n",
    "\n",
    "Si quisiéramos que la función devuelva sólo números enteros (integers) incluso si en la lista original son floats, podemos ajustar la función así:"
   ]
  },
  {
   "cell_type": "code",
   "execution_count": 6,
   "metadata": {},
   "outputs": [],
   "source": [
    "def get_even_numbers(list_of_numbers):\n",
    "    even_numbers = [int(number) for number in list_of_numbers if number % 2 == 0]\n",
    "    return even_numbers"
   ]
  },
  {
   "cell_type": "code",
   "execution_count": 19,
   "metadata": {},
   "outputs": [
    {
     "data": {
      "text/plain": [
       "[4, 16, 8]"
      ]
     },
     "execution_count": 19,
     "metadata": {},
     "output_type": "execute_result"
    }
   ],
   "source": [
    "get_even_numbers(numbers)"
   ]
  },
  {
   "cell_type": "markdown",
   "metadata": {},
   "source": [
    "Ahí está. Mejor.\n",
    "\n",
    "Pero..."
   ]
  },
  {
   "cell_type": "markdown",
   "metadata": {},
   "source": [
    "## Esto es Python!\n",
    "Y una de las características principales de Python es que una lista puede contener items de distinto tipo.\n",
    "\n",
    "#### Funcionará nuestra función si cambiamos la lista original por algo distinto?"
   ]
  },
  {
   "cell_type": "code",
   "execution_count": 7,
   "metadata": {},
   "outputs": [
    {
     "ename": "TypeError",
     "evalue": "not all arguments converted during string formatting",
     "output_type": "error",
     "traceback": [
      "\u001b[0;31m---------------------------------------------------------------------------\u001b[0m",
      "\u001b[0;31mTypeError\u001b[0m                                 Traceback (most recent call last)",
      "\u001b[0;32m<ipython-input-7-9afbbe09dbe3>\u001b[0m in \u001b[0;36m<module>\u001b[0;34m\u001b[0m\n\u001b[1;32m      1\u001b[0m \u001b[0mrandom_list\u001b[0m \u001b[0;34m=\u001b[0m \u001b[0;34m[\u001b[0m\u001b[0;36m1\u001b[0m\u001b[0;34m,\u001b[0m \u001b[0;36m2\u001b[0m\u001b[0;34m,\u001b[0m \u001b[0;36m3\u001b[0m\u001b[0;34m,\u001b[0m \u001b[0;36m6\u001b[0m\u001b[0;34m,\u001b[0m \u001b[0;36m23.5\u001b[0m\u001b[0;34m,\u001b[0m \u001b[0;34m'hello world'\u001b[0m\u001b[0;34m,\u001b[0m \u001b[0;32mTrue\u001b[0m\u001b[0;34m,\u001b[0m \u001b[0;32mFalse\u001b[0m\u001b[0;34m,\u001b[0m \u001b[0;34m'Python is amazing!'\u001b[0m\u001b[0;34m]\u001b[0m\u001b[0;34m\u001b[0m\u001b[0;34m\u001b[0m\u001b[0m\n\u001b[1;32m      2\u001b[0m \u001b[0;34m\u001b[0m\u001b[0m\n\u001b[0;32m----> 3\u001b[0;31m \u001b[0mget_even_numbers\u001b[0m\u001b[0;34m(\u001b[0m\u001b[0mrandom_list\u001b[0m\u001b[0;34m)\u001b[0m\u001b[0;34m\u001b[0m\u001b[0;34m\u001b[0m\u001b[0m\n\u001b[0m",
      "\u001b[0;32m<ipython-input-6-c05139711ca3>\u001b[0m in \u001b[0;36mget_even_numbers\u001b[0;34m(list_of_numbers)\u001b[0m\n\u001b[1;32m      1\u001b[0m \u001b[0;32mdef\u001b[0m \u001b[0mget_even_numbers\u001b[0m\u001b[0;34m(\u001b[0m\u001b[0mlist_of_numbers\u001b[0m\u001b[0;34m)\u001b[0m\u001b[0;34m:\u001b[0m\u001b[0;34m\u001b[0m\u001b[0;34m\u001b[0m\u001b[0m\n\u001b[0;32m----> 2\u001b[0;31m     \u001b[0meven_numbers\u001b[0m \u001b[0;34m=\u001b[0m \u001b[0;34m[\u001b[0m\u001b[0mint\u001b[0m\u001b[0;34m(\u001b[0m\u001b[0mnumber\u001b[0m\u001b[0;34m)\u001b[0m \u001b[0;32mfor\u001b[0m \u001b[0mnumber\u001b[0m \u001b[0;32min\u001b[0m \u001b[0mlist_of_numbers\u001b[0m \u001b[0;32mif\u001b[0m \u001b[0mnumber\u001b[0m \u001b[0;34m%\u001b[0m \u001b[0;36m2\u001b[0m \u001b[0;34m==\u001b[0m \u001b[0;36m0\u001b[0m\u001b[0;34m]\u001b[0m\u001b[0;34m\u001b[0m\u001b[0;34m\u001b[0m\u001b[0m\n\u001b[0m\u001b[1;32m      3\u001b[0m     \u001b[0;32mreturn\u001b[0m \u001b[0meven_numbers\u001b[0m\u001b[0;34m\u001b[0m\u001b[0;34m\u001b[0m\u001b[0m\n",
      "\u001b[0;32m<ipython-input-6-c05139711ca3>\u001b[0m in \u001b[0;36m<listcomp>\u001b[0;34m(.0)\u001b[0m\n\u001b[1;32m      1\u001b[0m \u001b[0;32mdef\u001b[0m \u001b[0mget_even_numbers\u001b[0m\u001b[0;34m(\u001b[0m\u001b[0mlist_of_numbers\u001b[0m\u001b[0;34m)\u001b[0m\u001b[0;34m:\u001b[0m\u001b[0;34m\u001b[0m\u001b[0;34m\u001b[0m\u001b[0m\n\u001b[0;32m----> 2\u001b[0;31m     \u001b[0meven_numbers\u001b[0m \u001b[0;34m=\u001b[0m \u001b[0;34m[\u001b[0m\u001b[0mint\u001b[0m\u001b[0;34m(\u001b[0m\u001b[0mnumber\u001b[0m\u001b[0;34m)\u001b[0m \u001b[0;32mfor\u001b[0m \u001b[0mnumber\u001b[0m \u001b[0;32min\u001b[0m \u001b[0mlist_of_numbers\u001b[0m \u001b[0;32mif\u001b[0m \u001b[0mnumber\u001b[0m \u001b[0;34m%\u001b[0m \u001b[0;36m2\u001b[0m \u001b[0;34m==\u001b[0m \u001b[0;36m0\u001b[0m\u001b[0;34m]\u001b[0m\u001b[0;34m\u001b[0m\u001b[0;34m\u001b[0m\u001b[0m\n\u001b[0m\u001b[1;32m      3\u001b[0m     \u001b[0;32mreturn\u001b[0m \u001b[0meven_numbers\u001b[0m\u001b[0;34m\u001b[0m\u001b[0;34m\u001b[0m\u001b[0m\n",
      "\u001b[0;31mTypeError\u001b[0m: not all arguments converted during string formatting"
     ]
    }
   ],
   "source": [
    "random_list = [1, 2, 3, 6, 23.5, 'hello world', True, False, 'Python is amazing!']\n",
    "\n",
    "get_even_numbers(random_list)"
   ]
  },
  {
   "cell_type": "markdown",
   "metadata": {},
   "source": [
    "Parece que no.\n",
    "\n",
    "#### ¿Cómo podemos arreglar nuestra función para que haga el trabajo con cualquier lista?\n",
    "\n",
    "Bien, veamos el error generado arriba:\n",
    "TypeError: not all arguments converted during string formatting\n",
    "\n",
    "Parece razonable: estamos intentando hacer operaciones aritméticas (división) en cosas como strings o booleans.\n",
    "\n",
    "Entonces tenemos que tomar en cuenta el tipo (type) de cada item de la lista recibida. Bien, redefinamos nuestra función para que haga eso:"
   ]
  },
  {
   "cell_type": "code",
   "execution_count": 8,
   "metadata": {},
   "outputs": [],
   "source": [
    "def get_even_numbers(any_list):\n",
    "    even_numbers = [int(number) for number in any_list if type(number) == int or type(number) == float and number % 2 == 0]\n",
    "    return even_numbers"
   ]
  },
  {
   "cell_type": "code",
   "execution_count": 9,
   "metadata": {},
   "outputs": [],
   "source": [
    "def get_even_numbers(any_list):\n",
    "    even_numbers = [int(number) for number in any_list if type(number) == int or type(number) == float and number % 2 == 0]\n",
    "    return even_numbers"
   ]
  },
  {
   "cell_type": "code",
   "execution_count": 10,
   "metadata": {},
   "outputs": [
    {
     "data": {
      "text/plain": [
       "[1, 2, 3, 6]"
      ]
     },
     "execution_count": 10,
     "metadata": {},
     "output_type": "execute_result"
    }
   ],
   "source": [
    "get_even_numbers(random_list)"
   ]
  },
  {
   "cell_type": "markdown",
   "metadata": {},
   "source": [
    "### Impresionante, ¿cierto?\n",
    "Cuando creamos una lista utilizando List Comprehension podemos añadir cualquier condición que pudiésemos incluir en un for loop normal, de modo que podemos añadir los operadores AND y OR.\n",
    "\n",
    "Recuerden, List Comprehension es en esencia una lista con un for loop integrado.\n",
    "\n",
    "Por ejemplo, podemos crear otra lista que contenga sólo los booleans de random_list:"
   ]
  },
  {
   "cell_type": "code",
   "execution_count": 11,
   "metadata": {},
   "outputs": [
    {
     "name": "stdout",
     "output_type": "stream",
     "text": [
      "[True, False]\n"
     ]
    }
   ],
   "source": [
    "booleans = [item for item in random_list if type(item) == bool]\n",
    "\n",
    "print(booleans)"
   ]
  },
  {
   "cell_type": "markdown",
   "metadata": {},
   "source": [
    "O quizás los strings con más de once caracteres (¿por qué no):"
   ]
  },
  {
   "cell_type": "code",
   "execution_count": 12,
   "metadata": {},
   "outputs": [
    {
     "name": "stdout",
     "output_type": "stream",
     "text": [
      "['Python is amazing!']\n"
     ]
    }
   ],
   "source": [
    "long_string = [item for item in random_list if type(item) == str and len(item) > 11]\n",
    "\n",
    "print(long_string)"
   ]
  },
  {
   "cell_type": "markdown",
   "metadata": {},
   "source": [
    "### Espero que les haya gustado este tutorial.\n",
    "\n",
    "Gracias por leer. Por favor, compártelo si piensas que puede serle útil a alguien más.\n",
    "\n",
    "Hasta pronto,\n",
    "### Dan Almenar Williams\n",
    "\n",
    "\n",
    "\n",
    "#### Sobre mi:\n",
    "Soy un programador autodidacta de Buenos Aires (Argentina).\n",
    "\n",
    "Hago tutoriales en varios formatos tanto en español como en inglés. Todos mis tutoriales son y serán gratuitos porque deseo ayudar a la mayor cantidad de gente posible, sin que su condición económica sea un obstáculo. Si quieres apoyarme, puedes colaborar en cualquiera de estas dos plataformas:\n",
    "• Patreon: https://www.patreon.com/dandeveloper\n",
    "• Ko-fi: https://ko-fi.com/dandev"
   ]
  }
 ],
 "metadata": {
  "kernelspec": {
   "display_name": "Python 3",
   "language": "python",
   "name": "python3"
  },
  "language_info": {
   "codemirror_mode": {
    "name": "ipython",
    "version": 3
   },
   "file_extension": ".py",
   "mimetype": "text/x-python",
   "name": "python",
   "nbconvert_exporter": "python",
   "pygments_lexer": "ipython3",
   "version": "3.8.3"
  }
 },
 "nbformat": 4,
 "nbformat_minor": 4
}
